{
 "cells": [
  {
   "cell_type": "markdown",
   "metadata": {},
   "source": [
    "# Cálculo de area de agua superficial\n",
    "Este código utiliza imágenes sentinel para encontrar el área lagunar en un área determinada a lo largo de un periodo de tiempo.\n",
    "\n",
    "\n",
    ">Creador: **Borja Mir**\n",
    ">Fecha: **20/04/2021**"
   ]
  },
  {
   "cell_type": "code",
   "execution_count": 1,
   "metadata": {},
   "outputs": [
    {
     "data": {
      "application/vnd.jupyter.widget-view+json": {
       "model_id": "24f9b5af48724af7a99f8ae7a8ae4893",
       "version_major": 2,
       "version_minor": 0
      },
      "text/plain": [
       "Map(center=[-23.4, -68.23], controls=(WidgetControl(options=['position', 'transparent_bg'], widget=HBox(childr…"
      ]
     },
     "metadata": {},
     "output_type": "display_data"
    }
   ],
   "source": [
    "import matplotlib.pyplot as plt\n",
    "import ee \n",
    "import folium\n",
    "# import geehydro\n",
    "import os\n",
    "import geemap\n",
    "import ee.mapclient\n",
    "import numpy as np\n",
    "import datetime \n",
    "from IPython.display import Image\n",
    "import pandas as pd\n",
    "import calendar\n",
    "from sklearn.linear_model import LinearRegression\n",
    "import scipy.stats\n",
    "import scipy\n",
    "import seaborn as sns\n",
    "#Esto sirve para que los plots se abran en una ventana aparte\n",
    "#%matplotlib qt \n",
    "\n",
    "ee.Initialize()\n",
    "mapa = geemap.Map(location=[-23.40, -68.23], zoom_start=9.5) # Aquí se determina donde se abre el mapa\n",
    "mapa"
   ]
  },
  {
   "cell_type": "code",
   "execution_count": 2,
   "metadata": {},
   "outputs": [],
   "source": [
    "area = ee.FeatureCollection(\"users/borjamirc/La_Brava\") #Aquí linkealo a tu colección de earth engine en la ventana de assets, yo hago los shapes en qgis y los subo\n",
    "#area = ee.FeatureCollection(mapa.draw_last_feature) # O aquí te toma la ultima figura dibujada en el mapa que se abrío en la entrada anterior"
   ]
  },
  {
   "cell_type": "code",
   "execution_count": 3,
   "metadata": {},
   "outputs": [],
   "source": [
    "\n",
    "\n",
    "sentinel = ee.ImageCollection(\"COPERNICUS/S2_SR\")\n",
    "\n",
    "\n",
    "sentinel = (sentinel\n",
    "                        .filterBounds(area)\n",
    "                        .filterDate('2019-01-01', '2021-3-31')\n",
    "                        .filter(ee.Filter.lt('CLOUDY_PIXEL_PERCENTAGE',30))# Filtro por porcentaje de nubosidad           \n",
    "           )\n",
    "\n"
   ]
  },
  {
   "cell_type": "code",
   "execution_count": 4,
   "metadata": {},
   "outputs": [],
   "source": [
    "def NDWIsentinel (image):\n",
    "    return image.normalizedDifference(['B3', 'B8']).gt(0) \n",
    "# .gt(0) devuelve una imagen booleana con 0 donde el valor es menor igual que 0 y 1 si es mayor (greater than 0)\n",
    "\n",
    "\n",
    "def mNDWIsentinel(image):  \n",
    "    return image.normalizedDifference(['B3', 'B11']).gt(0)  #sentinel red=3 nir=4 swir2=7  l8 red=4 nir=5 swir2=7  sen2 red=4 nir=8 swir2=12  \n",
    "\n",
    "\n",
    "def TCWsentinel(image):\n",
    "    tcw = image.expression(\n",
    "    '0.1509 * BLUE + 0.1973 * GREEN + 0.3279 * RED + 0.3406 * NIR -0.7112 * SWIR1 - 0.4572 * SWIR2', {\n",
    "      'NIR': image.select('B5'),\n",
    "      'RED': image.select('B4'),\n",
    "      'GREEN': image.select('B3'),\n",
    "      'BLUE': image.select('B2'),\n",
    "      'SWIR1': image.select('B11'),\n",
    "      'SWIR2': image.select('B12')\n",
    "    })\n",
    "    return tcw.gt(0)\n",
    "\n",
    "\n",
    "def EVIsentinel(image):\n",
    "    evi = image.expression(\n",
    "    '2.5 * ((NIR - RED) / (NIR + 6 * RED - 7.5 * BLUE + 1))', {\n",
    "      'NIR': image.select('B5'),\n",
    "      'RED': image.select('B4'),\n",
    "      'BLUE': image.select('B2')\n",
    "    })\n",
    "    return evi\n",
    "\n",
    "def NDVIsentinel(image):\n",
    "    return image.normalizedDifference(['B8', 'B4'])\n",
    "\n",
    "mNDWI=sentinel.map(mNDWIsentinel)\n",
    "TCW=sentinel.map(TCWsentinel)\n",
    "EVI=sentinel.map(EVIsentinel)\n",
    "NDWI=sentinel.map(NDWIsentinel)\n",
    "NDVI=sentinel.map(NDVIsentinel)\n",
    "#map se usa para mapear una función sobre una colección de imágenes, ya que las funciones usan .addBands() se le agregan a la colección como banda nueva por imágen."
   ]
  },
  {
   "cell_type": "code",
   "execution_count": 5,
   "metadata": {},
   "outputs": [
    {
     "data": {
      "application/vnd.jupyter.widget-view+json": {
       "model_id": "24f9b5af48724af7a99f8ae7a8ae4893",
       "version_major": 2,
       "version_minor": 0
      },
      "text/plain": [
       "Map(bottom=150175.0, center=[-24.98942273194716, -65.92662596266125], controls=(WidgetControl(options=['positi…"
      ]
     },
     "metadata": {},
     "output_type": "display_data"
    }
   ],
   "source": [
    "#Utilizo mediana envés de promedio para visualizar, así evito los valores anómalos (esto calcula el valor por pixel para toda la serie)\n",
    "NDWImed = NDWI.median()\n",
    "mNDWImed = mNDWI.median()\n",
    "TCWmed = TCW.median()\n",
    "EVImed = EVI.median()\n",
    "NDVImed = NDVI.median()\n",
    "\n",
    "imagen = sentinel.median()  \n",
    "image_viz_params = {\n",
    "    'bands': ['B4', 'B3', 'B2'], #agua:b11 b6 b3 o b7 b5 b2,  vegetacion: B7 B3 B2, normal: b4 b3 b2 \n",
    "    'min': 0,\n",
    "    'max': 6000, #Con este ajusta el brillo\n",
    "    'gamma': [1, 1, 1]\n",
    "}\n",
    "\n",
    "\n",
    "mapa.addLayer(NDWImed,name='NDWI')\n",
    "mapa.addLayer(mNDWImed,name='mNDWI')\n",
    "mapa.addLayer(TCWmed,name='TCW')\n",
    "mapa.addLayer(NDVImed,name='NDVI')\n",
    "mapa.addLayer(imagen, image_viz_params, 'Color composite')\n",
    "\n",
    "\n",
    "\n",
    "\n",
    "mapa"
   ]
  },
  {
   "cell_type": "code",
   "execution_count": 6,
   "metadata": {},
   "outputs": [],
   "source": [
    "#El Reducer reduce un area a un valor, aquí yo uso sum() ya que estoy contando los pixeles con agua\n",
    "#para NDVI se puede usa mean() o el mismo sum() si en la función arriba lo dejas con un .gt(0.3) por ejemplo como te dije en el mail\n",
    "def area_sum(image):\n",
    "    dict = image.reduceRegion(ee.Reducer.sum(), area)\n",
    "    return image.set(dict)\n",
    "\n",
    "def area_mean(image):\n",
    "    dict = image.reduceRegion(ee.Reducer.mean(), area)\n",
    "    return image.set(dict)\n",
    "\n",
    "## Esta parte es media jodida por que no he podido elegir yo el nombre de la banda que se genera, entonces escribo por ejemplo\n",
    "## NDWI.getInfo() y veo el nombre de la banda\n",
    "\n",
    "##Genero la serie de tiempo con los valores\n",
    "\n",
    "area_mNDWI = mNDWI.select(['nd']).map(area_sum).aggregate_array('nd').getInfo()\n",
    "area_NDWI = NDWI.select(['nd']).map(area_sum).aggregate_array('nd').getInfo()\n",
    "area_TCW = TCW.select(['constant']).map(area_sum).aggregate_array('constant').getInfo()\n",
    "area_NDVI = NDVI.select(['nd']).map(area_mean).aggregate_array('nd').getInfo()"
   ]
  },
  {
   "cell_type": "code",
   "execution_count": 7,
   "metadata": {},
   "outputs": [
    {
     "data": {
      "text/html": [
       "<div>\n",
       "<style scoped>\n",
       "    .dataframe tbody tr th:only-of-type {\n",
       "        vertical-align: middle;\n",
       "    }\n",
       "\n",
       "    .dataframe tbody tr th {\n",
       "        vertical-align: top;\n",
       "    }\n",
       "\n",
       "    .dataframe thead th {\n",
       "        text-align: right;\n",
       "    }\n",
       "</style>\n",
       "<table border=\"1\" class=\"dataframe\">\n",
       "  <thead>\n",
       "    <tr style=\"text-align: right;\">\n",
       "      <th></th>\n",
       "      <th>Timestamp</th>\n",
       "      <th>Fecha</th>\n",
       "      <th>NDWI</th>\n",
       "      <th>mNDWI</th>\n",
       "      <th>TCW</th>\n",
       "      <th>NDVI</th>\n",
       "    </tr>\n",
       "  </thead>\n",
       "  <tbody>\n",
       "    <tr>\n",
       "      <th>0</th>\n",
       "      <td>1547045367000</td>\n",
       "      <td>2019-01-09 11:49:27</td>\n",
       "      <td>0.318077</td>\n",
       "      <td>9.874999</td>\n",
       "      <td>12.473413</td>\n",
       "      <td>0.008058</td>\n",
       "    </tr>\n",
       "    <tr>\n",
       "      <th>1</th>\n",
       "      <td>1547909368000</td>\n",
       "      <td>2019-01-19 11:49:28</td>\n",
       "      <td>0.312582</td>\n",
       "      <td>9.556743</td>\n",
       "      <td>12.432157</td>\n",
       "      <td>0.006500</td>\n",
       "    </tr>\n",
       "    <tr>\n",
       "      <th>2</th>\n",
       "      <td>1548341372000</td>\n",
       "      <td>2019-01-24 11:49:32</td>\n",
       "      <td>0.346887</td>\n",
       "      <td>9.090811</td>\n",
       "      <td>12.210171</td>\n",
       "      <td>-0.000537</td>\n",
       "    </tr>\n",
       "    <tr>\n",
       "      <th>3</th>\n",
       "      <td>1550069372000</td>\n",
       "      <td>2019-02-13 11:49:32</td>\n",
       "      <td>1.858663</td>\n",
       "      <td>12.832873</td>\n",
       "      <td>12.842573</td>\n",
       "      <td>-0.006790</td>\n",
       "    </tr>\n",
       "    <tr>\n",
       "      <th>4</th>\n",
       "      <td>1550501368000</td>\n",
       "      <td>2019-02-18 11:49:28</td>\n",
       "      <td>1.268062</td>\n",
       "      <td>11.565705</td>\n",
       "      <td>12.748420</td>\n",
       "      <td>-0.001193</td>\n",
       "    </tr>\n",
       "    <tr>\n",
       "      <th>...</th>\n",
       "      <td>...</td>\n",
       "      <td>...</td>\n",
       "      <td>...</td>\n",
       "      <td>...</td>\n",
       "      <td>...</td>\n",
       "      <td>...</td>\n",
       "    </tr>\n",
       "    <tr>\n",
       "      <th>122</th>\n",
       "      <td>1614869371463</td>\n",
       "      <td>2021-03-04 11:49:31</td>\n",
       "      <td>0.274400</td>\n",
       "      <td>10.092030</td>\n",
       "      <td>12.499156</td>\n",
       "      <td>0.009816</td>\n",
       "    </tr>\n",
       "    <tr>\n",
       "      <th>123</th>\n",
       "      <td>1615301372182</td>\n",
       "      <td>2021-03-09 11:49:32</td>\n",
       "      <td>0.265600</td>\n",
       "      <td>9.631886</td>\n",
       "      <td>12.433052</td>\n",
       "      <td>0.007371</td>\n",
       "    </tr>\n",
       "    <tr>\n",
       "      <th>124</th>\n",
       "      <td>1615733371753</td>\n",
       "      <td>2021-03-14 11:49:31</td>\n",
       "      <td>0.281600</td>\n",
       "      <td>9.592831</td>\n",
       "      <td>12.409959</td>\n",
       "      <td>0.004369</td>\n",
       "    </tr>\n",
       "    <tr>\n",
       "      <th>125</th>\n",
       "      <td>1616597371361</td>\n",
       "      <td>2021-03-24 11:49:31</td>\n",
       "      <td>0.288500</td>\n",
       "      <td>9.872969</td>\n",
       "      <td>12.454459</td>\n",
       "      <td>0.013714</td>\n",
       "    </tr>\n",
       "    <tr>\n",
       "      <th>126</th>\n",
       "      <td>1617029370086</td>\n",
       "      <td>2021-03-29 11:49:30</td>\n",
       "      <td>0.299200</td>\n",
       "      <td>10.000237</td>\n",
       "      <td>12.558911</td>\n",
       "      <td>0.012088</td>\n",
       "    </tr>\n",
       "  </tbody>\n",
       "</table>\n",
       "<p>127 rows × 6 columns</p>\n",
       "</div>"
      ],
      "text/plain": [
       "         Timestamp               Fecha      NDWI      mNDWI        TCW  \\\n",
       "0    1547045367000 2019-01-09 11:49:27  0.318077   9.874999  12.473413   \n",
       "1    1547909368000 2019-01-19 11:49:28  0.312582   9.556743  12.432157   \n",
       "2    1548341372000 2019-01-24 11:49:32  0.346887   9.090811  12.210171   \n",
       "3    1550069372000 2019-02-13 11:49:32  1.858663  12.832873  12.842573   \n",
       "4    1550501368000 2019-02-18 11:49:28  1.268062  11.565705  12.748420   \n",
       "..             ...                 ...       ...        ...        ...   \n",
       "122  1614869371463 2021-03-04 11:49:31  0.274400  10.092030  12.499156   \n",
       "123  1615301372182 2021-03-09 11:49:32  0.265600   9.631886  12.433052   \n",
       "124  1615733371753 2021-03-14 11:49:31  0.281600   9.592831  12.409959   \n",
       "125  1616597371361 2021-03-24 11:49:31  0.288500   9.872969  12.454459   \n",
       "126  1617029370086 2021-03-29 11:49:30  0.299200  10.000237  12.558911   \n",
       "\n",
       "         NDVI  \n",
       "0    0.008058  \n",
       "1    0.006500  \n",
       "2   -0.000537  \n",
       "3   -0.006790  \n",
       "4   -0.001193  \n",
       "..        ...  \n",
       "122  0.009816  \n",
       "123  0.007371  \n",
       "124  0.004369  \n",
       "125  0.013714  \n",
       "126  0.012088  \n",
       "\n",
       "[127 rows x 6 columns]"
      ]
     },
     "execution_count": 7,
     "metadata": {},
     "output_type": "execute_result"
    }
   ],
   "source": [
    "#Armo el dataframe de pandas para mejor manejo\n",
    "data=pd.DataFrame()\n",
    "\n",
    "data['Timestamp']=sentinel.aggregate_array('system:time_start').getInfo()\n",
    "data['Fecha']=[datetime.datetime.fromtimestamp(x//1000) for x in data['Timestamp']]\n",
    "\n",
    "data['NDWI']=np.asarray(area_NDWI)*10*10/1000000 #De pixeles a km^2\n",
    "data['mNDWI']=np.asarray(area_mNDWI)*10*10/1000000\n",
    "data['TCW']=np.asarray(area_TCW)*10*10/1000000\n",
    "\n",
    "data['NDVI']=np.asarray(area_NDVI)\n",
    "\n",
    "data=data.sort_values(by=['Fecha'])\n",
    "data"
   ]
  },
  {
   "cell_type": "code",
   "execution_count": 14,
   "metadata": {},
   "outputs": [
    {
     "data": {
      "image/png": "[encoded data removed]",
      "text/plain": [
       "<Figure size 720x360 with 1 Axes>"
      ]
     },
     "metadata": {
      "needs_background": "light"
     },
     "output_type": "display_data"
    }
   ],
   "source": [
    "\n",
    "\n",
    "fig, axs=plt.subplots(figsize=(10,5))\n",
    "axs.plot(data['Fecha'],data['NDWI'], label='NDWI > 0')\n",
    "axs.set_xlabel('Fecha')\n",
    "axs.set_ylabel('Area laguna [$km^2$]')\n",
    "axs.legend()\n",
    "\n",
    "# axs[1].plot(data['Fecha'],data['mNDWI'], label='mNDWI')\n",
    "# axs[1].legend()\n",
    "\n",
    "# axs[2].plot(data['Fecha'],data['TCW'],label='TCW')\n",
    "# axs[2].legend()\n",
    "\n",
    "# axs[3].plot(data['Fecha'],data['NDVI'],label='NDVI')\n",
    "# axs[3].legend()\n",
    "\n",
    "plt.show()"
   ]
  },
  {
   "cell_type": "code",
   "execution_count": 10,
   "metadata": {},
   "outputs": [
    {
     "data": {
      "text/plain": [
       "['Timestamp', 'Fecha', 'NDWI', 'mNDWI', 'TCW', 'NDVI']"
      ]
     },
     "execution_count": 10,
     "metadata": {},
     "output_type": "execute_result"
    }
   ],
   "source": []
  },
  {
   "cell_type": "code",
   "execution_count": null,
   "metadata": {},
   "outputs": [],
   "source": []
  }
 ],
 "metadata": {
  "kernelspec": {
   "display_name": "Python 3",
   "language": "python",
   "name": "python3"
  },
  "language_info": {
   "codemirror_mode": {
    "name": "ipython",
    "version": 3
   },
   "file_extension": ".py",
   "mimetype": "text/x-python",
   "name": "python",
   "nbconvert_exporter": "python",
   "pygments_lexer": "ipython3",
   "version": "3.8.5"
  }
 },
 "nbformat": 4,
 "nbformat_minor": 4
}
