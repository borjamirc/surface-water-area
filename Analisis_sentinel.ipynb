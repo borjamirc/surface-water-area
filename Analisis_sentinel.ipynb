{
 "cells": [
  {
   "cell_type": "markdown",
   "metadata": {},
   "source": [
    "# Cálculo de area de agua superficial\n",
    "Este código utiliza imágenes sentinel para encontrar el área lagunar en un área determinada a lo largo de un periodo de tiempo.\n",
    "\n",
    "\n",
    ">Creador: **Borja Mir**\n",
    ">Fecha: **20/04/2021**"
   ]
  },
  {
   "cell_type": "code",
   "execution_count": 1,
   "metadata": {},
   "outputs": [
    {
     "data": {
      "application/vnd.jupyter.widget-view+json": {
       "model_id": "eb73d1222c934dd5983a98628a1f0d0b",
       "version_major": 2,
       "version_minor": 0
      },
      "text/plain": [
       "Map(center=[-23.4, -68.23], controls=(WidgetControl(options=['position', 'transparent_bg'], widget=HBox(childr…"
      ]
     },
     "metadata": {},
     "output_type": "display_data"
    }
   ],
   "source": [
    "import matplotlib.pyplot as plt\n",
    "import ee \n",
    "import folium\n",
    "# import geehydro\n",
    "import os\n",
    "import geemap\n",
    "import ee.mapclient\n",
    "import numpy as np\n",
    "import datetime \n",
    "from IPython.display import Image\n",
    "import pandas as pd\n",
    "import calendar\n",
    "from sklearn.linear_model import LinearRegression\n",
    "import scipy.stats\n",
    "import scipy\n",
    "import seaborn as sns\n",
    "#Esto sirve para que los plots se abran en una ventana aparte\n",
    "%matplotlib qt \n",
    "\n",
    "ee.Initialize()\n",
    "mapa = geemap.Map(location=[-23.40, -68.23], zoom_start=9.5) # Aquí se determina donde se abre el mapa\n",
    "mapa"
   ]
  },
  {
   "cell_type": "code",
   "execution_count": 2,
   "metadata": {},
   "outputs": [],
   "source": [
    "#area = ee.FeatureCollection(\"users/borjamirc/La_Brava\") #Aquí linkealo a tu colección de earth engine en la ventana de assets, yo hago los shapes en qgis y los subo\n",
    "area = ee.FeatureCollection(mapa.draw_last_feature) # O aquí te toma la ultima figura dibujada en el mapa que se abrío en la entrada anterior"
   ]
  },
  {
   "cell_type": "code",
   "execution_count": 3,
   "metadata": {},
   "outputs": [],
   "source": [
    "\n",
    "\n",
    "sentinel = ee.ImageCollection(\"COPERNICUS/S2_SR\")\n",
    "\n",
    "\n",
    "sentinel = (sentinel\n",
    "                        .filterBounds(area)\n",
    "                        .filterDate('2019-01-01', '2021-3-31')\n",
    "                        .filter(ee.Filter.lt('CLOUDY_PIXEL_PERCENTAGE',30))# Filtro por porcentaje de nubosidad           \n",
    "           )\n",
    "\n"
   ]
  },
  {
   "cell_type": "code",
   "execution_count": 4,
   "metadata": {},
   "outputs": [],
   "source": [
    "def NDWIsentinel (image):\n",
    "    return image.normalizedDifference(['B3', 'B8']).gt(0) \n",
    "# .gt(0) devuelve una imagen booleana con 0 donde el valor es menor igual que 0 y 1 si es mayor (greater than 0)\n",
    "\n",
    "\n",
    "def mNDWIsentinel(image):  \n",
    "    return image.normalizedDifference(['B3', 'B11']).gt(0)  #sentinel red=3 nir=4 swir2=7  l8 red=4 nir=5 swir2=7  sen2 red=4 nir=8 swir2=12  \n",
    "\n",
    "\n",
    "def TCWsentinel(image):\n",
    "    tcw = image.expression(\n",
    "    '0.1509 * BLUE + 0.1973 * GREEN + 0.3279 * RED + 0.3406 * NIR -0.7112 * SWIR1 - 0.4572 * SWIR2', {\n",
    "      'NIR': image.select('B5'),\n",
    "      'RED': image.select('B4'),\n",
    "      'GREEN': image.select('B3'),\n",
    "      'BLUE': image.select('B2'),\n",
    "      'SWIR1': image.select('B11'),\n",
    "      'SWIR2': image.select('B12')\n",
    "    })\n",
    "    return tcw.gt(0)\n",
    "\n",
    "\n",
    "def EVIsentinel(image):\n",
    "    evi = image.expression(\n",
    "    '2.5 * ((NIR - RED) / (NIR + 6 * RED - 7.5 * BLUE + 1))', {\n",
    "      'NIR': image.select('B5'),\n",
    "      'RED': image.select('B4'),\n",
    "      'BLUE': image.select('B2')\n",
    "    })\n",
    "    return evi\n",
    "\n",
    "def NDVIsentinel(image):\n",
    "    return image.normalizedDifference(['B8', 'B4'])\n",
    "\n",
    "mNDWI=sentinel.map(mNDWIsentinel)\n",
    "TCW=sentinel.map(TCWsentinel)\n",
    "EVI=sentinel.map(EVIsentinel)\n",
    "NDWI=sentinel.map(NDWIsentinel)\n",
    "NDVI=sentinel.map(NDVIsentinel)\n",
    "#map se usa para mapear una función sobre una colección de imágenes, ya que las funciones usan .addBands() se le agregan a la colección como banda nueva por imágen."
   ]
  },
  {
   "cell_type": "code",
   "execution_count": 5,
   "metadata": {},
   "outputs": [
    {
     "data": {
      "application/vnd.jupyter.widget-view+json": {
       "model_id": "eb73d1222c934dd5983a98628a1f0d0b",
       "version_major": 2,
       "version_minor": 0
      },
      "text/plain": [
       "Map(bottom=1257261.0, center=[-33.65135119453337, -70.04735803010178], controls=(WidgetControl(options=['posit…"
      ]
     },
     "metadata": {},
     "output_type": "display_data"
    }
   ],
   "source": [
    "#Utilizo mediana envés de promedio para visualizar, así evito los valores anómalos (esto calcula el valor por pixel para toda la serie)\n",
    "NDWImed = NDWI.median()\n",
    "mNDWImed = mNDWI.median()\n",
    "TCWmed = TCW.median()\n",
    "EVImed = EVI.median()\n",
    "NDVImed = NDVI.median()\n",
    "\n",
    "imagen = sentinel.median()  \n",
    "image_viz_params = {\n",
    "    'bands': ['B4', 'B3', 'B2'], #agua:b11 b6 b3 o b7 b5 b2,  vegetacion: B7 B3 B2, normal: b4 b3 b2 \n",
    "    'min': 0,\n",
    "    'max': 6000, #Con este ajusta el brillo\n",
    "    'gamma': [1, 1, 1]\n",
    "}\n",
    "\n",
    "\n",
    "mapa.addLayer(NDWImed,name='NDWI')\n",
    "mapa.addLayer(mNDWImed,name='mNDWI')\n",
    "mapa.addLayer(TCWmed,name='TCW')\n",
    "mapa.addLayer(NDVImed,name='NDVI')\n",
    "mapa.addLayer(imagen, image_viz_params, 'Color composite')\n",
    "\n",
    "\n",
    "\n",
    "\n",
    "mapa"
   ]
  },
  {
   "cell_type": "code",
   "execution_count": 6,
   "metadata": {},
   "outputs": [],
   "source": [
    "#El Reducer reduce un area a un valor, aquí yo uso sum() ya que estoy contando los pixeles con agua\n",
    "#para NDVI se puede usa mean() o el mismo sum() si en la función arriba lo dejas con un .gt(0.3) por ejemplo como te dije en el mail\n",
    "def area_sum(image):\n",
    "    dict = image.reduceRegion(ee.Reducer.sum(), area)\n",
    "    return image.set(dict)\n",
    "\n",
    "def area_mean(image):\n",
    "    dict = image.reduceRegion(ee.Reducer.mean(), area)\n",
    "    return image.set(dict)\n",
    "\n",
    "## Esta parte es media jodida por que no he podido elegir yo el nombre de la banda que se genera, entonces escribo por ejemplo\n",
    "## NDWI.getInfo() y veo el nombre de la banda\n",
    "\n",
    "##Genero la serie de tiempo con los valores\n",
    "\n",
    "area_mNDWI = mNDWI.select(['nd']).map(area_sum).aggregate_array('nd').getInfo()\n",
    "area_NDWI = NDWI.select(['nd']).map(area_sum).aggregate_array('nd').getInfo()\n",
    "area_TCW = TCW.select(['constant']).map(area_sum).aggregate_array('constant').getInfo()\n",
    "area_NDVI = NDVI.select(['nd']).map(area_mean).aggregate_array('nd').getInfo()"
   ]
  },
  {
   "cell_type": "code",
   "execution_count": 7,
   "metadata": {},
   "outputs": [
    {
     "data": {
      "text/html": [
       "<div>\n",
       "<style scoped>\n",
       "    .dataframe tbody tr th:only-of-type {\n",
       "        vertical-align: middle;\n",
       "    }\n",
       "\n",
       "    .dataframe tbody tr th {\n",
       "        vertical-align: top;\n",
       "    }\n",
       "\n",
       "    .dataframe thead th {\n",
       "        text-align: right;\n",
       "    }\n",
       "</style>\n",
       "<table border=\"1\" class=\"dataframe\">\n",
       "  <thead>\n",
       "    <tr style=\"text-align: right;\">\n",
       "      <th></th>\n",
       "      <th>Timestamp</th>\n",
       "      <th>Fecha</th>\n",
       "      <th>NDWI</th>\n",
       "      <th>mNDWI</th>\n",
       "      <th>TCW</th>\n",
       "      <th>NDVI</th>\n",
       "    </tr>\n",
       "  </thead>\n",
       "  <tbody>\n",
       "    <tr>\n",
       "      <th>1</th>\n",
       "      <td>1546353737000</td>\n",
       "      <td>2019-01-01 11:42:17</td>\n",
       "      <td>3.094179</td>\n",
       "      <td>5.748778</td>\n",
       "      <td>5.032689</td>\n",
       "      <td>0.042939</td>\n",
       "    </tr>\n",
       "    <tr>\n",
       "      <th>0</th>\n",
       "      <td>1546353740000</td>\n",
       "      <td>2019-01-01 11:42:20</td>\n",
       "      <td>5.772588</td>\n",
       "      <td>8.323716</td>\n",
       "      <td>7.356176</td>\n",
       "      <td>0.038044</td>\n",
       "    </tr>\n",
       "    <tr>\n",
       "      <th>3</th>\n",
       "      <td>1546613533000</td>\n",
       "      <td>2019-01-04 11:52:13</td>\n",
       "      <td>2.942497</td>\n",
       "      <td>4.918094</td>\n",
       "      <td>4.258642</td>\n",
       "      <td>0.098065</td>\n",
       "    </tr>\n",
       "    <tr>\n",
       "      <th>2</th>\n",
       "      <td>1546613537000</td>\n",
       "      <td>2019-01-04 11:52:17</td>\n",
       "      <td>5.777008</td>\n",
       "      <td>8.571829</td>\n",
       "      <td>7.436984</td>\n",
       "      <td>0.089756</td>\n",
       "    </tr>\n",
       "    <tr>\n",
       "      <th>5</th>\n",
       "      <td>1547217738000</td>\n",
       "      <td>2019-01-11 11:42:18</td>\n",
       "      <td>3.599908</td>\n",
       "      <td>6.312861</td>\n",
       "      <td>5.298143</td>\n",
       "      <td>0.038705</td>\n",
       "    </tr>\n",
       "    <tr>\n",
       "      <th>...</th>\n",
       "      <td>...</td>\n",
       "      <td>...</td>\n",
       "      <td>...</td>\n",
       "      <td>...</td>\n",
       "      <td>...</td>\n",
       "      <td>...</td>\n",
       "    </tr>\n",
       "    <tr>\n",
       "      <th>399</th>\n",
       "      <td>1616597534326</td>\n",
       "      <td>2021-03-24 11:52:14</td>\n",
       "      <td>5.450495</td>\n",
       "      <td>7.323405</td>\n",
       "      <td>4.215238</td>\n",
       "      <td>0.105800</td>\n",
       "    </tr>\n",
       "    <tr>\n",
       "      <th>398</th>\n",
       "      <td>1616597538086</td>\n",
       "      <td>2021-03-24 11:52:18</td>\n",
       "      <td>8.746057</td>\n",
       "      <td>11.798193</td>\n",
       "      <td>10.029473</td>\n",
       "      <td>0.051736</td>\n",
       "    </tr>\n",
       "    <tr>\n",
       "      <th>400</th>\n",
       "      <td>1616769740983</td>\n",
       "      <td>2021-03-26 11:42:20</td>\n",
       "      <td>8.539056</td>\n",
       "      <td>11.277893</td>\n",
       "      <td>9.535385</td>\n",
       "      <td>0.067359</td>\n",
       "    </tr>\n",
       "    <tr>\n",
       "      <th>402</th>\n",
       "      <td>1617029533046</td>\n",
       "      <td>2021-03-29 11:52:13</td>\n",
       "      <td>4.569856</td>\n",
       "      <td>5.461043</td>\n",
       "      <td>3.146482</td>\n",
       "      <td>0.110595</td>\n",
       "    </tr>\n",
       "    <tr>\n",
       "      <th>401</th>\n",
       "      <td>1617029536798</td>\n",
       "      <td>2021-03-29 11:52:16</td>\n",
       "      <td>7.675503</td>\n",
       "      <td>8.182511</td>\n",
       "      <td>3.744204</td>\n",
       "      <td>0.101821</td>\n",
       "    </tr>\n",
       "  </tbody>\n",
       "</table>\n",
       "<p>403 rows × 6 columns</p>\n",
       "</div>"
      ],
      "text/plain": [
       "         Timestamp               Fecha      NDWI      mNDWI        TCW  \\\n",
       "1    1546353737000 2019-01-01 11:42:17  3.094179   5.748778   5.032689   \n",
       "0    1546353740000 2019-01-01 11:42:20  5.772588   8.323716   7.356176   \n",
       "3    1546613533000 2019-01-04 11:52:13  2.942497   4.918094   4.258642   \n",
       "2    1546613537000 2019-01-04 11:52:17  5.777008   8.571829   7.436984   \n",
       "5    1547217738000 2019-01-11 11:42:18  3.599908   6.312861   5.298143   \n",
       "..             ...                 ...       ...        ...        ...   \n",
       "399  1616597534326 2021-03-24 11:52:14  5.450495   7.323405   4.215238   \n",
       "398  1616597538086 2021-03-24 11:52:18  8.746057  11.798193  10.029473   \n",
       "400  1616769740983 2021-03-26 11:42:20  8.539056  11.277893   9.535385   \n",
       "402  1617029533046 2021-03-29 11:52:13  4.569856   5.461043   3.146482   \n",
       "401  1617029536798 2021-03-29 11:52:16  7.675503   8.182511   3.744204   \n",
       "\n",
       "         NDVI  \n",
       "1    0.042939  \n",
       "0    0.038044  \n",
       "3    0.098065  \n",
       "2    0.089756  \n",
       "5    0.038705  \n",
       "..        ...  \n",
       "399  0.105800  \n",
       "398  0.051736  \n",
       "400  0.067359  \n",
       "402  0.110595  \n",
       "401  0.101821  \n",
       "\n",
       "[403 rows x 6 columns]"
      ]
     },
     "execution_count": 7,
     "metadata": {},
     "output_type": "execute_result"
    }
   ],
   "source": [
    "#Armo el dataframe de pandas para mejor manejo\n",
    "data=pd.DataFrame()\n",
    "\n",
    "data['Timestamp']=sentinel.aggregate_array('system:time_start').getInfo()\n",
    "data['Fecha']=[datetime.datetime.fromtimestamp(x//1000) for x in data['Timestamp']]\n",
    "\n",
    "data['NDWI']=np.asarray(area_NDWI)*10*10/1000000 #De pixeles a km^2\n",
    "data['mNDWI']=np.asarray(area_mNDWI)*10*10/1000000\n",
    "data['TCW']=np.asarray(area_TCW)*10*10/1000000\n",
    "\n",
    "data['NDVI']=np.asarray(area_NDVI)\n",
    "\n",
    "data=data.sort_values(by=['Fecha'])\n",
    "data"
   ]
  },
  {
   "cell_type": "code",
   "execution_count": 8,
   "metadata": {},
   "outputs": [
    {
     "data": {
      "text/plain": [
       "<matplotlib.legend.Legend at 0x196bd47f520>"
      ]
     },
     "execution_count": 8,
     "metadata": {},
     "output_type": "execute_result"
    }
   ],
   "source": [
    "\n",
    "\n",
    "fig, axs=plt.subplots(4,1,sharex=True)\n",
    "axs[0].plot(data['Fecha'],data['NDWI'], label='NDWI')\n",
    "axs[0].legend()\n",
    "\n",
    "axs[1].plot(data['Fecha'],data['mNDWI'], label='mNDWI')\n",
    "axs[1].legend()\n",
    "\n",
    "axs[2].plot(data['Fecha'],data['TCW'],label='TCW')\n",
    "axs[2].legend()\n",
    "\n",
    "axs[3].plot(data['Fecha'],data['NDVI'],label='NDVI')\n",
    "axs[3].legend()\n"
   ]
  },
  {
   "cell_type": "code",
   "execution_count": 10,
   "metadata": {},
   "outputs": [
    {
     "data": {
      "text/plain": [
       "['Timestamp', 'Fecha', 'NDWI', 'mNDWI', 'TCW', 'NDVI']"
      ]
     },
     "execution_count": 10,
     "metadata": {},
     "output_type": "execute_result"
    }
   ],
   "source": [
    "list(data.columns)"
   ]
  },
  {
   "cell_type": "code",
   "execution_count": null,
   "metadata": {},
   "outputs": [],
   "source": []
  }
 ],
 "metadata": {
  "kernelspec": {
   "display_name": "Python 3",
   "language": "python",
   "name": "python3"
  },
  "language_info": {
   "codemirror_mode": {
    "name": "ipython",
    "version": 3
   },
   "file_extension": ".py",
   "mimetype": "text/x-python",
   "name": "python",
   "nbconvert_exporter": "python",
   "pygments_lexer": "ipython3",
   "version": "3.8.5"
  }
 },
 "nbformat": 4,
 "nbformat_minor": 4
}
